{
 "cells": [
  {
   "cell_type": "code",
   "execution_count": 1,
   "id": "94a58a7c-6158-4a8f-910e-380d1dd6754e",
   "metadata": {},
   "outputs": [],
   "source": [
    "from pathlib import Path\n",
    "\n",
    "import numpy as np\n",
    "import pandas as pd\n",
    "from sklearn.preprocessing import FunctionTransformer\n",
    "from sklearn.preprocessing import OneHotEncoder\n",
    "from sklearn.preprocessing import StandardScaler\n",
    "from sklearn.pipeline import make_pipeline\n",
    "from sklearn.compose import ColumnTransformer\n",
    "from sklearn.linear_model import Ridge"
   ]
  },
  {
   "cell_type": "code",
   "execution_count": 2,
   "id": "10629e01-c81d-44b7-bb1b-53164312642e",
   "metadata": {},
   "outputs": [],
   "source": [
    "def _encode_dates(X):\n",
    "    X = X.copy()  # modify a copy of X\n",
    "    # Encode the date information from the DateOfDeparture columns\n",
    "    X.loc[:, \"year\"] = X[\"date\"].dt.year\n",
    "    X.loc[:, \"month\"] = X[\"date\"].dt.month\n",
    "    X.loc[:, \"day\"] = X[\"date\"].dt.day\n",
    "    X.loc[:, \"weekday\"] = X[\"date\"].dt.weekday\n",
    "    X.loc[:, \"hour\"] = X[\"date\"].dt.hour\n",
    "\n",
    "    # Finally we can drop the original columns from the dataframe\n",
    "    return X.drop(columns=[\"date\"])"
   ]
  },
  {
   "cell_type": "code",
   "execution_count": null,
   "id": "26d23e24-6215-402e-977b-b5ce0a2f2f31",
   "metadata": {},
   "outputs": [],
   "source": [
    "def _merge_external_data(X):\n",
    "    file_path = Path(__file__).parent / \"external_data.csv\"\n",
    "    df_ext = pd.read_csv(file_path, parse_dates=[\"date\"])\n",
    "\n",
    "    X = X.copy()\n",
    "    # When using merge_asof left frame need to be sorted\n",
    "    X[\"orig_index\"] = np.arange(X.shape[0])\n",
    "    X = pd.merge_asof(\n",
    "        X.sort_values(\"date\"), df_ext[[\"date\", \"t\"]].sort_values(\"date\"), on=\"date\"\n",
    "    )\n",
    "    # Sort back to the original order\n",
    "    X = X.sort_values(\"orig_index\")\n",
    "    del X[\"orig_index\"]\n",
    "    return X"
   ]
  },
  {
   "cell_type": "code",
   "execution_count": null,
   "id": "3783a19b-493c-4ce0-8d4b-e23f56bb4e92",
   "metadata": {},
   "outputs": [],
   "source": [
    "def get_estimator():\n",
    "    date_encoder = FunctionTransformer(_encode_dates)\n",
    "    date_cols = [\"year\", \"month\", \"day\", \"weekday\", \"hour\"]\n",
    "\n",
    "    categorical_encoder = OneHotEncoder(handle_unknown=\"ignore\")\n",
    "    categorical_cols = [\"counter_name\", \"site_name\"]\n",
    "\n",
    "    preprocessor = ColumnTransformer(\n",
    "        [\n",
    "            (\"date\", OneHotEncoder(handle_unknown=\"ignore\"), date_cols),\n",
    "            (\"cat\", categorical_encoder, categorical_cols),\n",
    "        ]\n",
    "    )\n",
    "    regressor = Ridge()\n",
    "\n",
    "    pipe = make_pipeline(\n",
    "        FunctionTransformer(_merge_external_data, validate=False),\n",
    "        date_encoder,\n",
    "        preprocessor,\n",
    "        regressor,\n",
    "    )\n",
    "\n",
    "    return pipe"
   ]
  }
 ],
 "metadata": {
  "kernelspec": {
   "display_name": "Python 3 (py64)",
   "language": "python",
   "name": "py64"
  },
  "language_info": {
   "codemirror_mode": {
    "name": "ipython",
    "version": 3
   },
   "file_extension": ".py",
   "mimetype": "text/x-python",
   "name": "python",
   "nbconvert_exporter": "python",
   "pygments_lexer": "ipython3",
   "version": "3.8.20"
  }
 },
 "nbformat": 4,
 "nbformat_minor": 5
}
